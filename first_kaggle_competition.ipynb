{
 "cells": [
  {
   "cell_type": "markdown",
   "metadata": {},
   "source": [
    "# 첫 캐글 경진대회 따라해보기\n",
    "\n",
    "2019 2nd ML month with KaKR 캐글 경진대회를 처음부터 끝까지 경험해보자.\n",
    "\n",
    "## 학습 목표\n",
    "- 데이터 사이언스 관련 커뮤니티를 경험\n",
    "- 캐글에서 내려받은 자료로 로컬에서 동작시켜볼 것\n",
    "- 앙상블 기법을 익히고 이해한다. 여러 모델의 예측 결과를 평균값 낸 최종 결과를 캐글 제출\n",
    "- 하이퍼 파라미터 튜닝이 왜 필요한지 이해하고 Grid Search, Random Search 등을 알아보자.\n",
    "- Grid Search 기법을 활용해서 하이퍼 파라미터 튜닝 실험해보자. 모델의 성능을 끌어올리자.\n",
    "\n",
    "## 목차\n",
    "\n",
    "### 1. 대회의 시작 : 참가 규칙과 데이터 평가기준 살펴보기\n",
    "\n",
    "### 2. 자 그럼, 일단 제출하자! Baseline이 있으니까\n",
    "\n",
    "### 3. 랭킹을 올려보자. 최적 모델을 찾기 위한 하이퍼 파라미터 튜닝\n",
    "\n",
    "### 4. 프로젝트"
   ]
  },
  {
   "cell_type": "markdown",
   "metadata": {},
   "source": [
    "### 1-1. 대회의 시작 : 참가해보기\n",
    "\n",
    "[ 캐글코리아와 함께하는 2nd ML 대회 ](https://www.kaggle.com/c/2019-2nd-ml-month-with-kakr)\n",
    "링크페이지에 접속해보고 메뉴들을 하나씩 들여다 보자.\n",
    "\n",
    "첫 사용자라면, 가입 및 로그인을 해야 보인다.\n",
    "첫 메뉴는 Description, 대회소개다.\n",
    "\n",
    "캐글에는 다양한 경진대회가 있고 모두 대회 소개, 데이터셋 소개, 규칙 설명 등이 정리되어있다.\n",
    "그리고 참여자들을 어떤 기준으로 평가하는 지가 중요하다.\n",
    "\n",
    "링크된 대회는 RMSE, Root Mean Squared Error 평가를 한다.\n",
    "예측해야하는 데이터는 향후 집값이다. 우리는 회귀 모델을 만들어보고 RMSE를 통해 평가를 해본다.\n",
    "\n",
    "대회들은 상품이 있다. 경진대회에 적극적으로 참여하도록 한다.\n",
    "대회 일정과 규칙들도 나와있다.\n",
    "특이 한 점은 하루 최대 제출횟수가 5번이다. 무작위로 제출하는 것을 방지하는 것이라고 하는데, 신중하게 제출하자."
   ]
  },
  {
   "cell_type": "markdown",
   "metadata": {},
   "source": [
    "### 1-2. 대회의 시작 : 데이터 살펴보기\n",
    "\n",
    "Data 메뉴를 눌러보면 Dataset descriptions이 있다. 데이터가 복잡할수록 이러한 설명을 잘 이해해야 좋은 결과를 낼 수 있을 것이다.\n",
    "\n",
    "데이터셋을 다운받자."
   ]
  },
  {
   "cell_type": "markdown",
   "metadata": {},
   "source": [
    "### 2-1. 자 그럼, 일단 제출하자! Baseline 셋팅하기\n",
    "\n",
    "이번 대회는 주최자 차원에서 Baseline을 제공하였다.\n",
    "\n",
    "> 베이스라인이란 문제 해결에 쉽게 사용해볼 수 있는 샘플 모델이다.\n",
    "\n",
    "Baseline kernel은 [ 링크 ](https://www.kaggle.com/kcs93023/2019-ml-month-2nd-baseline)에 있다.\n",
    "링크를 타고 들어가면 주최자가 업로드해논 baseline 주피터 노트북 파일이 있다. 확인해보자.\n",
    "\n",
    "먼저 로컬에서 작업하기 위해, 우측 상단에 copy & edit 눌러보자.\n",
    "웹편집기에 해당 커널이 올라오는데, 파일 - 다운로드 노트북을 해서 ipynb파일을 내려받아서 로컬에서 열어보자.\n",
    "\n",
    "> Kernel은 우리가 주피터 노트북의 형태의 파일이 캐글 서버에서 실행될 때 그 프로그램을 부르는 개념이다.\n",
    "\n"
   ]
  },
  {
   "cell_type": "code",
   "execution_count": null,
   "metadata": {},
   "outputs": [],
   "source": []
  }
 ],
 "metadata": {
  "kernelspec": {
   "display_name": "Python 3.9.12 ('base')",
   "language": "python",
   "name": "python3"
  },
  "language_info": {
   "name": "python",
   "version": "3.9.12"
  },
  "orig_nbformat": 4,
  "vscode": {
   "interpreter": {
    "hash": "04f264c9f04f7c6d1a1e5f9fded89ff150ec7f969a926ef69b3c04d099cccdc4"
   }
  }
 },
 "nbformat": 4,
 "nbformat_minor": 2
}
